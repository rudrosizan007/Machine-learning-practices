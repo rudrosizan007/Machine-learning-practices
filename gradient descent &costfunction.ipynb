{
 "cells": [
  {
   "cell_type": "code",
   "execution_count": 1,
   "id": "ae1d1c18-a074-45fb-81cf-c89739d7a74a",
   "metadata": {},
   "outputs": [
    {
     "data": {
      "image/png": "[encoded data removed]",
      "text/plain": [
       "<Figure size 432x288 with 1 Axes>"
      ]
     },
     "metadata": {
      "needs_background": "light"
     },
     "output_type": "display_data"
    }
   ],
   "source": [
    "import numpy as np\n",
    "\n",
    "# Define the cost function\n",
    "def cost_function(X, y, theta):\n",
    "    m = len(y)\n",
    "    h = X.dot(theta)\n",
    "    J = 1/(2*m) * np.sum((h - y)**2)\n",
    "    return J\n",
    "\n",
    "# Define the gradient descent function\n",
    "def gradient_descent(X, y, theta, alpha, num_iters):\n",
    "    m = len(y)\n",
    "    J_history = np.zeros(num_iters)\n",
    "    \n",
    "    for i in range(num_iters):\n",
    "        h = X.dot(theta)\n",
    "        error = h - y\n",
    "        delta = 1/m * X.T.dot(error)\n",
    "        theta -= alpha * delta\n",
    "        J_history[i] = cost_function(X, y, theta)\n",
    "        \n",
    "    return theta, J_history\n",
    "\n",
    "# Generate some random data\n",
    "m = 100\n",
    "X = np.random.rand(m, 1)\n",
    "y = 2*X + np.random.randn(m, 1)*0.1\n",
    "\n",
    "# Add a column of ones to X (for the bias term)\n",
    "X = np.hstack((np.ones((m, 1)), X))\n",
    "\n",
    "# Initialize theta to random values\n",
    "theta = np.random.randn(2, 1)\n",
    "\n",
    "# Set the learning rate and number of iterations\n",
    "alpha = 0.1\n",
    "num_iters = 100\n",
    "\n",
    "# Run gradient descent to optimize theta\n",
    "theta, J_history = gradient_descent(X, y, theta, alpha, num_iters)\n",
    "\n",
    "# Plot the cost function over iterations to check convergence\n",
    "import matplotlib.pyplot as plt\n",
    "plt.plot(J_history)\n",
    "plt.xlabel('Iteration')\n",
    "plt.ylabel('Cost')\n",
    "plt.show()\n"
   ]
  },
  {
   "cell_type": "code",
   "execution_count": null,
   "id": "0be0bbe8-e618-43cc-9038-1186e7ff4db2",
   "metadata": {},
   "outputs": [],
   "source": []
  }
 ],
 "metadata": {
  "kernelspec": {
   "display_name": "Python 3 (ipykernel)",
   "language": "python",
   "name": "python3"
  },
  "language_info": {
   "codemirror_mode": {
    "name": "ipython",
    "version": 3
   },
   "file_extension": ".py",
   "mimetype": "text/x-python",
   "name": "python",
   "nbconvert_exporter": "python",
   "pygments_lexer": "ipython3",
   "version": "3.9.7"
  }
 },
 "nbformat": 4,
 "nbformat_minor": 5
}
